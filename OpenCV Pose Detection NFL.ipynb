{
 "cells": [
  {
   "cell_type": "code",
   "execution_count": null,
   "id": "f663a51d",
   "metadata": {},
   "outputs": [],
   "source": [
    "import argparse\n",
    "import logging\n",
    "import math\n",
    "import os\n",
    "import random\n",
    "import sys\n",
    "import time\n",
    "from copy import deepcopy\n",
    "from pathlib import Path\n",
    "import pandas as pd\n",
    "import matplotlib.pylab as plt\n",
    "import numpy as np\n",
    "import cv2 as cv\n",
    "import argparse\n",
    "import pafy\n",
    "from pytube import YouTube"
   ]
  },
  {
   "cell_type": "code",
   "execution_count": null,
   "id": "fb8ad2d0",
   "metadata": {},
   "outputs": [],
   "source": [
    "#from pytube import YouTube\n",
    "#YouTube('https://www.youtube.com/watch?v=N556Hv6589c').streams.first().download()\n",
    "\n",
    "#Malik Willis clip: https://www.youtube.com/clip/UgkxCFRXqzhqDLdOysmXpZe17lUhWf-ZN8Km"
   ]
  },
  {
   "cell_type": "code",
   "execution_count": null,
   "id": "f2edd268",
   "metadata": {},
   "outputs": [],
   "source": [
    "BODY_PARTS = {\"Head\": 0, \"Neck\": 1, \"RShoulder\": 2, \"RElbow\": 3, \"RWrist\": 4,\n",
    "                \"LShoulder\": 5, \"LElbow\": 6, \"LWrist\": 7, \"RHip\": 8, \"RKnee\": 9,\n",
    "                \"RAnkle\": 10, \"LHip\": 11, \"LKnee\": 12, \"LAnkle\": 13, \"Chest\": 14,\n",
    "                \"Background\": 15 }\n",
    "\n",
    "POSE_PAIRS = [ [\"Head\", \"Neck\"], [\"Neck\", \"RShoulder\"], [\"RShoulder\", \"RElbow\"],\n",
    "             [\"RElbow\", \"RWrist\"], [\"Neck\", \"LShoulder\"], [\"LShoulder\", \"LElbow\"],\n",
    "             [\"LElbow\", \"LWrist\"], [\"Neck\", \"Chest\"], [\"Chest\", \"RHip\"], [\"RHip\", \"RKnee\"],\n",
    "             [\"RKnee\", \"RAnkle\"], [\"Chest\", \"LHip\"], [\"LHip\", \"LKnee\"], [\"LKnee\", \"LAnkle\"] ]"
   ]
  },
  {
   "cell_type": "code",
   "execution_count": null,
   "id": "1ac23fce",
   "metadata": {},
   "outputs": [],
   "source": [
    "net = cv.dnn.readNetFromTensorflow(\"graph_opt.pb\")  #create custom"
   ]
  },
  {
   "cell_type": "code",
   "execution_count": null,
   "id": "5a5dbb72",
   "metadata": {},
   "outputs": [],
   "source": [
    "#cap = cv.VideoCapture(\"bryce_young.gif\")\n",
    "cap = cv.VideoCapture(\"train/Malik_Willis_trim.mp4\")"
   ]
  },
  {
   "cell_type": "code",
   "execution_count": null,
   "id": "a5db7067",
   "metadata": {},
   "outputs": [],
   "source": [
    "inWidth = int(cap.get(cv.CAP_PROP_FRAME_WIDTH)) #368\n",
    "inHeight = int(cap.get(cv.CAP_PROP_FRAME_HEIGHT))  #368\n",
    "inRate = int(cap.get(cv.CAP_PROP_FPS))"
   ]
  },
  {
   "cell_type": "code",
   "execution_count": null,
   "id": "88f481e6",
   "metadata": {},
   "outputs": [],
   "source": [
    "inWidth"
   ]
  },
  {
   "cell_type": "code",
   "execution_count": null,
   "id": "783b6a75",
   "metadata": {},
   "outputs": [],
   "source": [
    "inHeight"
   ]
  },
  {
   "cell_type": "code",
   "execution_count": null,
   "id": "0553d96d",
   "metadata": {},
   "outputs": [],
   "source": [
    "inRate"
   ]
  },
  {
   "cell_type": "code",
   "execution_count": null,
   "id": "aa1247e6",
   "metadata": {},
   "outputs": [],
   "source": [
    "hasFrame,frame = cap.read()"
   ]
  },
  {
   "cell_type": "code",
   "execution_count": null,
   "id": "e9f5aea6",
   "metadata": {},
   "outputs": [],
   "source": [
    "frame_count = int(cap.get(cv.CAP_PROP_FRAME_COUNT))"
   ]
  },
  {
   "cell_type": "code",
   "execution_count": null,
   "id": "1be6253a",
   "metadata": {},
   "outputs": [],
   "source": [
    "print('Frame count:',frame_count)"
   ]
  },
  {
   "cell_type": "code",
   "execution_count": null,
   "id": "529377ea",
   "metadata": {},
   "outputs": [],
   "source": [
    "print('Position:',int(cap.get(cv.CAP_PROP_POS_FRAMES)))"
   ]
  },
  {
   "cell_type": "code",
   "execution_count": null,
   "id": "1a666477",
   "metadata": {},
   "outputs": [],
   "source": [
    "# use the previous location of the body part if the model is wrong\n",
    "previous_x, previous_y = [0,0,0,0,0,0,0,0,0,0,0,0,0,0,0,0],[0,0,0,0,0,0,0,0,0,0,0,0,0,0,0,0]"
   ]
  },
  {
   "cell_type": "code",
   "execution_count": null,
   "id": "a80777e3",
   "metadata": {},
   "outputs": [],
   "source": [
    "# final DF of all body parts\n",
    "data = []"
   ]
  },
  {
   "cell_type": "code",
   "execution_count": null,
   "id": "1a791234",
   "metadata": {},
   "outputs": [],
   "source": [
    "count = 0\n",
    "while cv.waitKey(1) < 0:\n",
    "    hasFrame, frame = cap.read()\n",
    "    if not hasFrame:\n",
    "        #cv.waitKey()\n",
    "        cv.destroyAllWindows()\n",
    "        break\n",
    "\n",
    "    frameWidth = frame.shape[1]\n",
    "    frameHeight = frame.shape[0]\n",
    "    \n",
    "    net.setInput(cv.dnn.blobFromImage(frame, 1.0, (inWidth, inHeight), swapRB=True, crop=False))\n",
    "    out = net.forward()\n",
    "    out = out[:, :16, :, :]  \n",
    "    ### original 19 shapes\n",
    "\n",
    "    assert(len(BODY_PARTS) == out.shape[1])\n",
    "    \n",
    "    points = []\n",
    "    point_df = pd.DataFrame([])\n",
    "    x_data, y_data = [], []\n",
    "    \n",
    "    for i in range(len(BODY_PARTS)):\n",
    "        # Slice heatmap of corresponging body's part.\n",
    "        heatMap = out[0, i, :, :]\n",
    "        # Originally, we try to find all the local maximums. To simplify a sample\n",
    "        # we just find a global one. However only a single pose at the same time\n",
    "        # could be detected this way.\n",
    "        _, conf, _, point = cv.minMaxLoc(heatMap)\n",
    "        x = (frameWidth * point[0]) / out.shape[3]\n",
    "        y = (frameHeight * point[1]) / out.shape[2]\n",
    "        fr = frame_count\n",
    "        # Add a point if it's confidence is higher than threshold.\n",
    "        points.append((int(x), int(y)) if conf > 0.5 else None)  ## only appending points with confidence accuracy > 20%\n",
    "        point_df = point_df.append(points)\n",
    "        \n",
    "        # create a duplicate point to be appended to a final_df dataset for analysis\n",
    "        if conf > 0.5:\n",
    "            x_data.append(x)\n",
    "            y_data.append(y)\n",
    "            xy = tuple(np.array([x,y],int))\n",
    "            cv.circle(frame,xy,5,(25,0,255),5)\n",
    "        else:\n",
    "            x_data.append(previous_x[i])\n",
    "            y_data.append(previous_y[i])\n",
    "            \n",
    "    data.append(x_data + y_data)\n",
    "    previous_x, previous_y = x_data, y_data\n",
    "    count +=1\n",
    "\n",
    "\n",
    "    for pair in POSE_PAIRS:\n",
    "        partFrom = pair[0]\n",
    "        partTo = pair[1]\n",
    "        assert(partFrom in BODY_PARTS)\n",
    "        assert(partTo in BODY_PARTS)\n",
    "\n",
    "        idFrom = BODY_PARTS[partFrom]\n",
    "        idTo = BODY_PARTS[partTo]\n",
    "\n",
    "        if points[idFrom] and points[idTo]:\n",
    "            cv.line(frame, points[idFrom], points[idTo], (255, 74, 0), 3)\n",
    "            cv.ellipse(frame, points[idFrom], (4, 4), 0, 0, 360, (255, 255, 255), cv.FILLED)\n",
    "            cv.ellipse(frame, points[idTo], (4, 4), 0, 0, 360, (255, 255, 255), cv.FILLED)\n",
    "            cv.putText(frame, str(idFrom), points[idFrom], cv.FONT_HERSHEY_SIMPLEX, 0.75, (255, 255, 255),2,cv.LINE_AA)\n",
    "            cv.putText(frame, str(idTo), points[idTo], cv.FONT_HERSHEY_SIMPLEX, 0.75, (255, 255, 255),2,cv.LINE_AA)\n",
    "\n",
    "    t, _ = net.getPerfProfile()\n",
    "    freq = cv.getTickFrequency() / 1000\n",
    "    cv.putText(frame, '%.2fms' % (t / freq), (10, 20), cv.FONT_HERSHEY_SIMPLEX, 0.5, (0, 0, 0))\n",
    "    cv.imshow('OpenPose using OpenCV', frame)\n",
    "    \n",
    "cv.destroyAllWindows()"
   ]
  },
  {
   "cell_type": "code",
   "execution_count": null,
   "id": "ad71e328-51c7-4874-8435-87496121cdd2",
   "metadata": {},
   "outputs": [],
   "source": [
    "#coordinates of points (missing frames)\n",
    "\n",
    "#pd.options.display.max_rows = 4000\n",
    "#point_df"
   ]
  },
  {
   "cell_type": "code",
   "execution_count": null,
   "id": "9f5fd878-59fb-45a7-a2c7-91bfb3f0e205",
   "metadata": {},
   "outputs": [],
   "source": [
    "final_df = pd.DataFrame(data)"
   ]
  },
  {
   "cell_type": "code",
   "execution_count": null,
   "id": "0c4ac969",
   "metadata": {},
   "outputs": [],
   "source": [
    "final_df"
   ]
  }
 ],
 "metadata": {
  "kernelspec": {
   "display_name": "Python 3 (ipykernel)",
   "language": "python",
   "name": "python3"
  },
  "language_info": {
   "codemirror_mode": {
    "name": "ipython",
    "version": 3
   },
   "file_extension": ".py",
   "mimetype": "text/x-python",
   "name": "python",
   "nbconvert_exporter": "python",
   "pygments_lexer": "ipython3",
   "version": "3.9.7"
  }
 },
 "nbformat": 4,
 "nbformat_minor": 5
}
