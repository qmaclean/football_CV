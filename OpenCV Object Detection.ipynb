{
 "cells": [
  {
   "cell_type": "code",
   "execution_count": null,
   "id": "8ca08f47",
   "metadata": {},
   "outputs": [],
   "source": [
    "import sys\n",
    "import cv2 as cv\n",
    "from random import randint\n",
    "from tqdm import tqdm\n",
    "import time\n",
    "import numpy as np\n",
    "from matplotlib import pyplot as plt\n",
    "import os\n",
    "from PIL import Image, ImageFont, ImageDraw\n",
    "import tensorflow as tf\n",
    "\n",
    "from tensorflow import keras\n",
    "from tensorflow.python.keras import backend as K\n",
    "from tensorflow.compat.v1 import graph_util\n",
    "\n",
    "# import keras_retinanet\n",
    "from keras_retinanet import models\n",
    "from keras_retinanet.utils.image import read_image_bgr, preprocess_image, resize_image\n",
    "from keras_retinanet.utils.visualization import draw_box, draw_caption\n",
    "from keras_retinanet.utils.colors import label_color\n",
    "\n",
    "#from object_detection.utils import non_max_suppression\n",
    "from object_detection.utils import label_map_util\n",
    "from imutils.object_detection import non_max_suppression\n"
   ]
  },
  {
   "cell_type": "code",
   "execution_count": null,
   "id": "c14024b1",
   "metadata": {},
   "outputs": [],
   "source": [
    "sys.path"
   ]
  },
  {
   "cell_type": "code",
   "execution_count": null,
   "id": "0ed9eb72",
   "metadata": {},
   "outputs": [],
   "source": [
    "%matplotlib inline\n",
    "\n",
    "%load_ext autoreload\n",
    "%autoreload 2"
   ]
  },
  {
   "cell_type": "markdown",
   "id": "9de0c299",
   "metadata": {},
   "source": [
    "new model"
   ]
  },
  {
   "cell_type": "code",
   "execution_count": null,
   "id": "58940497",
   "metadata": {},
   "outputs": [],
   "source": [
    "video = cv.VideoCapture('train/KT_trim.mp4')"
   ]
  },
  {
   "cell_type": "code",
   "execution_count": null,
   "id": "e926352a",
   "metadata": {},
   "outputs": [],
   "source": [
    "#MODEL_NAME = 'inference_graph'\n",
    "#MODEL_NAME = ''"
   ]
  },
  {
   "cell_type": "code",
   "execution_count": null,
   "id": "fae7e6c5",
   "metadata": {},
   "outputs": [],
   "source": [
    "# What model to download.\n",
    "MODEL_NAME = 'ssd_mobilenet_v1_coco_2017_11_17'\n",
    "MODEL_FILE = MODEL_NAME + '.tar.gz'\n",
    "DOWNLOAD_BASE = 'http://download.tensorflow.org/models/object_detection/'\n",
    "\n",
    "# Path to frozen detection graph. This is the actual model that is used for the object detection.\n",
    "PATH_TO_CKPT = MODEL_NAME + '/frozen_inference_graph.pb'\n",
    "#PATH_TO_CKPT = 'frozen_inference_graph.pb'\n",
    "\n",
    "# List of the strings that is used to add correct label for each box.\n",
    "PATH_TO_LABELS = os.path.join('data', 'mscoco_label_map.pbtxt')\n",
    "\n",
    "NUM_CLASSES = 90"
   ]
  },
  {
   "cell_type": "code",
   "execution_count": null,
   "id": "08a4ccc2",
   "metadata": {},
   "outputs": [],
   "source": [
    "label_map = label_map_util.load_labelmap('mscoco_label_map.pbtxt')"
   ]
  },
  {
   "cell_type": "code",
   "execution_count": null,
   "id": "008f980f",
   "metadata": {},
   "outputs": [],
   "source": [
    "categories = label_map_util.convert_label_map_to_categories(label_map, max_num_classes=NUM_CLASSES, use_display_name=True)"
   ]
  },
  {
   "cell_type": "code",
   "execution_count": null,
   "id": "c5c9d7c4",
   "metadata": {},
   "outputs": [],
   "source": [
    "category_index = label_map_util.create_category_index(categories)"
   ]
  },
  {
   "cell_type": "code",
   "execution_count": null,
   "id": "f115a8e9",
   "metadata": {},
   "outputs": [],
   "source": [
    "detection_graph = tf.Graph()\n",
    "with detection_graph.as_default():\n",
    "    od_graph_def = tf.compat.v1.GraphDef() \n",
    "    with tf.compat.v2.io.gfile.GFile(PATH_TO_CKPT, 'rb') as fid:\n",
    "        serialized_graph = fid.read()\n",
    "        od_graph_def.ParseFromString(serialized_graph)\n",
    "        tf.import_graph_def(od_graph_def, name='')\n",
    "    sess = tf.compat.v1.Session(graph=detection_graph)    "
   ]
  },
  {
   "cell_type": "code",
   "execution_count": null,
   "id": "1eabf8b8",
   "metadata": {},
   "outputs": [],
   "source": [
    "\n",
    "image_tensor = detection_graph.get_tensor_by_name('image_tensor:0')\n",
    "detection_boxes = detection_graph.get_tensor_by_name('detection_boxes:0')\n",
    "detection_scores = detection_graph.get_tensor_by_name('detection_scores:0')\n",
    "detection_classes = detection_graph.get_tensor_by_name('detection_classes:0')\n",
    "num_detections = detection_graph.get_tensor_by_name('num_detections:0')\n"
   ]
  },
  {
   "cell_type": "code",
   "execution_count": null,
   "id": "f8532375",
   "metadata": {},
   "outputs": [],
   "source": [
    "while(True):\n",
    "\n",
    "    ret, frame = video.read()\n",
    "    frame_expanded = np.expand_dims(frame, axis=0)\n",
    "\n",
    "    (boxes, scores, classes, num) = sess.run(\n",
    "        [detection_boxes, detection_scores, detection_classes, num_detections],\n",
    "        feed_dict={image_tensor: frame_expanded})\n",
    "\n",
    "    n,p,q = np.shape(frame)\n",
    "    o,l,m = np.shape(boxes)\n",
    "    for i in range(l):\n",
    "        if(scores[0][i] > 0.5 and classes[0][i] == 1):   # 0.5\n",
    "            ymin, xmin, ymax, xmax = int(boxes[0][i][0] * n), int(boxes[0][i][1] * p), int(boxes[0][i][2] * n), int(boxes[0][i][3] * p)\n",
    "            cv.rectangle(frame, (xmin, ymin), (xmax, ymax), (0, 255, 0), 3)\n",
    "\n",
    "    cv.namedWindow('frame', cv.WINDOW_NORMAL)\n",
    "    cv.resizeWindow('frame', 960, 540)\n",
    "    cv.imshow('frame', frame)\n",
    "\n",
    "    # Press 'q' to quit\n",
    "    if cv.waitKey(1) == ord('q'):\n",
    "        break\n",
    "\n",
    "video.release()\n",
    "cv.destroyAllWindows()"
   ]
  },
  {
   "cell_type": "code",
   "execution_count": null,
   "id": "2e735714",
   "metadata": {},
   "outputs": [],
   "source": []
  }
 ],
 "metadata": {
  "kernelspec": {
   "display_name": "Python 3 (ipykernel)",
   "language": "python",
   "name": "python3"
  },
  "language_info": {
   "codemirror_mode": {
    "name": "ipython",
    "version": 3
   },
   "file_extension": ".py",
   "mimetype": "text/x-python",
   "name": "python",
   "nbconvert_exporter": "python",
   "pygments_lexer": "ipython3",
   "version": "3.9.7"
  }
 },
 "nbformat": 4,
 "nbformat_minor": 5
}
